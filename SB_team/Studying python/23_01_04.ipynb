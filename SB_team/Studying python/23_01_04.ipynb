{
 "cells": [
  {
   "cell_type": "markdown",
   "id": "6c539cb4-034a-42ba-9d66-2f4386ea4262",
   "metadata": {},
   "source": [
    "#### 4.2.3 연습 문제: map()을 이용하여 각 자리 숫자의 합을 구하는 함수 만들기 ####"
   ]
  },
  {
   "cell_type": "markdown",
   "id": "3b9298b0-c294-4ca6-b09a-3c5cc9e8fddb",
   "metadata": {},
   "source": [
    "def sumOfDigits(num): \n",
    "    digits = map(int, list(str(num))) \n",
    "    // num을 받아서 str으로 형변환 후 list화 할 것이다. \n",
    "    // list 요소 각각을 int로 형변환 애서 새로운 리스트를 digit로 저장 할 것이다.\n",
    "    return sum(digits)\n",
    "\n",
    "if __name__ == '__main__': // main 함수의 선언\n",
    "    print(sumOfDigits(47253))\n",
    "    print(sumOfDigits(643))"
   ]
  },
  {
   "cell_type": "markdown",
   "id": "155e7f45-3955-45f6-aced-d3c49f1325f7",
   "metadata": {},
   "source": [
    "### 4.3 tuple ###\n",
    "- tuple 문법  \n",
    "tuple 만들기: t = ('a', 'b', 'c') // 괄호()를 안써도 된다  \n",
    "빈 tuple: empty = () // 빈 tuple을 쓸 때는 괄호() 쓰기   \n",
    "원소가 하나인 tuple: one = 5, // 원소 뒤에 콤마, 잊지 말기  \n",
    "원소값 바꾸기:  \n",
    "tuple과 list 사이 형변환: new_tuple = tuple(list) && new_list = list(tuple)  \n",
    "\n",
    "### 4.4 dictionary ###\n",
    "- dictionary 문법  \n",
    "dic 만들기:  \n",
    "dic = {}  \n",
    "dic['key'] = 'value'  \n",
    "dic = {'key':'value', 'key':'value'...}  \n",
    "pair 없애기: del dic['key']  \n",
    "dic과 list 형변환: dic.keys() dic.value()  \n",
    "'key'의 유무 확인: 'kye' in dic"
   ]
  },
  {
   "cell_type": "markdown",
   "id": "5bd06574-aa3c-4a51-a9b1-eabc583600f7",
   "metadata": {},
   "source": [
    "#### 4.4.2 연습 문제: txt로 이루어진 리스트를 dic화 해서 저장하기 ####  //???????\n",
    "\n",
    "disorders = dict()  \n",
    "\n",
    "is_eng = lambda x: 65 <= ord(x) <= 90 or 97 <= ord(x) <= 122  \n",
    "\n",
    "for l in txt.splitlines():  \n",
    "    i = 0  \n",
    "    while not is_eng(l[i]):  \n",
    "        i += 1  \n",
    "    else:  \n",
    "        ko, en = l[:i - 1], l[i:]  \n",
    "        disorders[ko] = en  \n",
    "\n",
    "print(disorders)  "
   ]
  },
  {
   "cell_type": "markdown",
   "id": "8f3d63b0-9e03-465e-8f73-fefeb2ea31c8",
   "metadata": {},
   "source": [
    "#### 4.4.3 연습 문제: 프랙털 ####\n",
    "\n",
    "colwidth = 61  \n",
    "rule90 = {'000':'0', '001':'1', '010':'0', '011':'1', '100':'1', '101':'0', '110':'1', '111':'0'}  \n",
    "//규칙 dic화 \n",
    "half = colwidth // 2  \n",
    "line = '0' * half + '1' + '0' * half  \n",
    "print(line)  \n",
    "\n",
    "while line[1] == '0':  \n",
    "> prev = line  \n",
    ">> line = '0' * colwidth  \n",
    ">>> for i in range(1, colwidth - 1):  \n",
    ">>>> line = line[:i] + rule90[prev[i-1:i+2]] + line[i+1:]  \n",
    "print(line)"
   ]
  },
  {
   "cell_type": "markdown",
   "id": "888de389-f181-4d8b-8541-e3004b54fe91",
   "metadata": {},
   "source": [
    "### 4.5 set ###\n",
    "- set 문법  \n",
    "set 만들기: set = {e,e,...}\n",
    "구성 추가: set.add('e')\n",
    "- set 연산\n",
    "교집합: set1 & set2  \n",
    "합집합: set1 | set2  \n",
    "- set와 list 연동 & list에서의 set 연산 사용  \n",
    "list에 set 넣기: list_of_sets = [set1, set2]  \n",
    "교집합: set.intersection(*list_of_sets)   \n",
    "합집합: set.union(*list_of_sets)  \n",
    "\n",
    "cf) 집합이라고 생각하면 접근이 쉬운 듯, 집합의 연산이라고 생각하자\n",
    "cf) set와 list의 차이점, set는 중복이 없다"
   ]
  },
  {
   "cell_type": "markdown",
   "id": "8e0059c8-51b6-49ba-b136-15afb2a5779a",
   "metadata": {},
   "source": [
    "### 5. 모듈 ###\n",
    "### 5.1 모듈 ###\n",
    "- math \n",
    "- calendar  \n",
    "import calendar\n",
    "calendar.prmonth(2013, 7)  \n",
    "// line 유의 할 것\n",
    "- from tkinter import *  \n",
    "widget = Label(None, text='I love Python!')  \n",
    "widget.pack()\n",
    "\n",
    "### 5.2 모듈 가져오기(import) ###\n",
    "- import\n",
    "- from tkinter import (함수/클래스)\n",
    "- 모듈 없애기: del module\n",
    "- 모듈 사용법\n",
    "import module \n",
    "dir(module)\n",
    "help(함수)"
   ]
  },
  {
   "cell_type": "markdown",
   "id": "a9917514-8c60-4e87-8880-2e8e39b6d084",
   "metadata": {},
   "source": [
    "import tkinter as tk\n",
    "\n",
    "s = \"Life is short\\nUse Python\" // srt 생성  \n",
    "\n",
    "root = tk.Tk() // 창 생성  \n",
    "t = tk.Text(root, height=2, width=13) // 창(root)의 크기 지정  \n",
    "t.insert(text 시작 위치, 삽입 할 텍스트) // s를 창에 삽입  \n",
    "t.pack()  \n",
    "tk.mainloop() // 창 띄우기  "
   ]
  },
  {
   "cell_type": "markdown",
   "id": "00e91121-7388-491e-beb3-41d096777d10",
   "metadata": {},
   "source": [
    "### 5.3 여러 모듈 ###\n",
    "- random  \n",
    "0-1 사이의 난수 생성: ramdom.random()  \n",
    "지정 범위 내의 난수 생성: random.randrange(start_number(이상),end_number(미만))  \n",
    "시퀀스 순서 섞기: random.shuffle([...])\n",
    "무작위 원소 하나 추출: random.choice([...])\n",
    "- string \n",
    "ex) str.maketrans(list[N:],:list[ :N]): 시저 암호 \n"
   ]
  },
  {
   "cell_type": "markdown",
   "id": "0391a831-5dbc-4b67-b4b0-1fcd7ac9d141",
   "metadata": {},
   "source": [
    "### 3. 패키지 ###\n",
    "#### 3.1 파이썬 클래스 ####\n",
    "- class\n",
    "class (class이름):  \n",
    " def  \n",
    " def  \n",
    " ...  \n",
    "\n",
    "#### 3.2 모듈과 패키지 ####\n",
    "- 모듈 (module): 파이썬파일(.py)  \n",
    "- 패키지 (package): 파이썬 모듈을 담고있는 폴더"
   ]
  }
 ],
 "metadata": {
  "kernelspec": {
   "display_name": "Python 3 (ipykernel)",
   "language": "python",
   "name": "python3"
  },
  "language_info": {
   "codemirror_mode": {
    "name": "ipython",
    "version": 3
   },
   "file_extension": ".py",
   "mimetype": "text/x-python",
   "name": "python",
   "nbconvert_exporter": "python",
   "pygments_lexer": "ipython3",
   "version": "3.10.8"
  }
 },
 "nbformat": 4,
 "nbformat_minor": 5
}
