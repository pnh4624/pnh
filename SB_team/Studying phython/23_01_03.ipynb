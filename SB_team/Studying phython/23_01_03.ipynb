{
 "cells": [
  {
   "cell_type": "markdown",
   "id": "1e46bc51-7784-4c6a-8066-8675fe828113",
   "metadata": {
    "tags": []
   },
   "source": [
    "### 2. 제어구조 ###\n",
    "#### 2.3 for문 ####"
   ]
  },
  {
   "cell_type": "markdown",
   "id": "f8d582f7-39b7-477e-b8cf-9ab05a343706",
   "metadata": {},
   "source": [
    "#### 2.3.1 연습 문제: 입력받은 숫자만큼 반복하기(for) #####\n",
    "정수를 입력 받아 정수의 숫자 크기만큼 반복 출력하기\n",
    "\n",
    "Q. print('',num)와 print(num)의 차이"
   ]
  },
  {
   "cell_type": "code",
   "execution_count": 12,
   "id": "eb7897ff-e960-4de0-b33b-b65afd7b368d",
   "metadata": {},
   "outputs": [
    {
     "name": "stdin",
     "output_type": "stream",
     "text": [
      " 3\n"
     ]
    },
    {
     "name": "stdout",
     "output_type": "stream",
     "text": [
      " 3\n",
      " 3\n",
      " 3\n"
     ]
    }
   ],
   "source": [
    "num = int(input())\n",
    "for i in range(num):\n",
    "    print('',num) "
   ]
  },
  {
   "cell_type": "markdown",
   "id": "4fd4ffe8-7069-43a4-b95b-94b91fb90cd9",
   "metadata": {},
   "source": [
    "#### 2.3.2 연습 문제: 제곱표 작성하기(for) #####\n",
    "정수를 한 개 입력받아 1부터 입력받은 수까지 각각에 대해 제곱을 구해 프린트하는 프로그램  \n",
    "range()의 범위에 유의하기<br>range(5) = [0...5], range(2,5) = [2...4]"
   ]
  },
  {
   "cell_type": "code",
   "execution_count": 13,
   "id": "637cb7a9-38a8-48bd-9631-0632e5c78c7e",
   "metadata": {},
   "outputs": [
    {
     "name": "stdin",
     "output_type": "stream",
     "text": [
      " 4\n"
     ]
    },
    {
     "name": "stdout",
     "output_type": "stream",
     "text": [
      " 1\n",
      " 4\n",
      " 9\n",
      " 16\n"
     ]
    }
   ],
   "source": [
    "num = int(input())\n",
    "for i in range(1,num+1):\n",
    "    print('',i*i)"
   ]
  },
  {
   "cell_type": "markdown",
   "id": "41d3a174-8d0c-4e2d-8d1a-6534adbbb744",
   "metadata": {},
   "source": [
    "#### 2.3.3 연습 문제: 화학 실험실 ####\n",
    "15초마다 온도를 측정해 장치에 보내는 프로그램\n",
    "\n",
    "1. 최소와 최대의 안전 온도를 나타내는 두 개의 정수를 설정\n",
    "2. 장치가 연속적으로 제공하는 온도(정수) 읽기\n",
    "3. 화학 반응이 완료시, 장치는 끝을 알리는 -999를 프린트\n",
    "4. 기록된 온도가 올바른 범위에 있을 경우 'Nothing to report' 프린트\n",
    "5. 온도가 위험 수준에 도달하면 'Alert!' 프린트, 온도 측정을 중단\n",
    "\n",
    "#1. split(): 문자열을 분할 리스트 도출<br>\n",
    " ex) input().split() -> 10 20 입력 -> 10, 20 으로 인식  \n",
    "#2. temp 입력 위치 확인하기  \n",
    " 언제 장치 값을 입력 받을 것인지, 얼마나 돌게 할 것인지 확인하기  \n",
    " ex) temp가 -999가 아니면 while문을 실행한다. 그리고 유효 범위 내에서만 report를 실행한다.\n"
   ]
  },
  {
   "cell_type": "code",
   "execution_count": null,
   "id": "8e9ac67e-d49b-4cc9-bb2b-b037855b4daf",
   "metadata": {},
   "outputs": [],
   "source": [
    "L = input().split()\n",
    "min = int(L[0])\n",
    "max = int(L[1])\n",
    "# min, max = map(int, input().split())\n",
    "\n",
    "temp = int(input())\n",
    "\n",
    "while temp != -999:\n",
    "    if min <= temp <= max:\n",
    "        print('Nothing to report')\n",
    "        temp = int(input())\n",
    "    else:\n",
    "        print('Alert!')\n",
    "        break"
   ]
  },
  {
   "cell_type": "markdown",
   "id": "8b2d9da1-399c-4dff-9c42-7e50a2d920b2",
   "metadata": {},
   "source": [
    "#### 2.4 match-case문 ####\n",
    "FizzBuzz 프로그램 "
   ]
  },
  {
   "cell_type": "code",
   "execution_count": null,
   "id": "ac5957dd-f198-4741-a706-c710846a903d",
   "metadata": {},
   "outputs": [],
   "source": [
    "for i in range(1,11):\n",
    "    match(i%3,i%5):\n",
    "        case(0,0):\n",
    "            print(i,'FizzBuzz')\n",
    "        case(_,0):\n",
    "            print(i,'Buzz')\n",
    "        case(0,_):\n",
    "            print(i,'Fizz')\n",
    "        case(_,_):\n",
    "            print(i)"
   ]
  },
  {
   "cell_type": "markdown",
   "id": "e421e36e-933a-4fc3-ba91-b11606b5e89c",
   "metadata": {
    "tags": []
   },
   "source": [
    "### 3. 함수 ###\n",
    "#### 3.1 함수 ####\n",
    "#### 3.1.1 함수 만들기 ####  \n",
    "def [함수 이름] (매개변수):  \n",
    " 내용 입력  \n",
    "// java 메서드의 기능 \n",
    "\n",
    "cf) f-string formatting  \n",
    "f' {} ' //{} 안의 내용만 바뀌고 나머지 형식은 동일 할 때 사용"
   ]
  },
  {
   "cell_type": "code",
   "execution_count": null,
   "id": "e2e5b4d5-534d-45ec-b81f-4ac05ce8ffd9",
   "metadata": {},
   "outputs": [],
   "source": [
    "def multi(m):\n",
    "    m = int(input())\n",
    "    for i in range(1,10):\n",
    "        print(f'{m} * {i} = {i*m:2d}')"
   ]
  },
  {
   "cell_type": "markdown",
   "id": "ea66f5d8-5283-4127-9c39-95b5aa196cfd",
   "metadata": {},
   "source": [
    "#### 3.2 return문 ####\n",
    "#### 3.2.1 반환 ####  \n",
    "- return문이 필요한 이유\n",
    "#### 3.3 지역 변수와 전역 변수 #### \n",
    "#### 3.5 람다 ####  \n",
    "- lambda 사용법: lambda 매개변수 : 표현식  \n",
    "cf) 제곱식 연산자: x ** 2  \n",
    "- map(함수, 리스트)  \n",
    " 새로운 리스트를 함수에 적용시켜 새로운 리스트를 만듦\n",
    "- reduce(함수, 시퀀스)\n",
    " 시퀀스를 함수에 누적하여 적용\n",
    " 누적 순서에 유의 할 것\n",
    " ex) reduce(lambda x, y: y + x, 'abcde') = 'edcba'\n",
    "- filter(함수, 리스트)  \n",
    " 리스트를 함수에 적용시켜 '참' 값의 요소들을 반환"
   ]
  },
  {
   "cell_type": "markdown",
   "id": "3203c0f2-36d3-4c45-a566-75423fa44fd5",
   "metadata": {},
   "source": [
    "#### 3.5.1 연습 문제: 놀이 공원 (1) ####\n",
    "1. text 입력 받기 //?????????????????????? 추가 학습 필요 "
   ]
  },
  {
   "cell_type": "code",
   "execution_count": null,
   "id": "64f07e3d-58a0-4b5a-981f-62a329a202b2",
   "metadata": {},
   "outputs": [],
   "source": [
    "def read(text):\n",
    "    ridename, limit = map(str.strip, text.split(':'))\n",
    "    \n",
    "    cmmin = cmmax = None\n",
    "    if '~' in limit:\n",
    "        cmmin, cmmax = map(lambda x: int(x.replace('cm', '')), limit.split('~'))\n",
    "    elif \"이상\" in limit:\n",
    "        cmmin = int(limit.split(\"cm\")[0])\n",
    "    return ridename, cmmin, cmmax\n",
    "\n",
    "if __name__ == \"__main__\":\n",
    "    ridename, cmmin, cmmax = read(input())\n",
    "    print(\"이름:\", ridename)\n",
    "    print(\"하한:\", cmmin)\n",
    "    print(\"상한:\", cmmax)"
   ]
  },
  {
   "cell_type": "markdown",
   "id": "0a7dee76-2232-43e5-b8d3-877b64249b28",
   "metadata": {
    "tags": []
   },
   "source": [
    "### 4. 데이터 타입 ###\n",
    "#### 4.1 자료형 ####\n",
    "- number  \n",
    "int/ float/ complex\n",
    "\n",
    "- sequence\n",
    "str(\"\")/ list('')/ tuple()  \n",
    "cf) p[m:n]: p의 문자열을 m 자리부터 n개 복사, 전체 역순 뒤부터 복사 가능\n",
    "\n",
    "- mapping(dict)  \n",
    "키(key):값(value)의 짝  \n",
    "ex) type({'one': 1, 'two': 2, 'three': 3})\n",
    "<class 'dict'>\n",
    "\n",
    "- bool\n",
    "True or False\n",
    "\n",
    "- set\n",
    "집합\n",
    "ex) fruits = {'apple', 'banana', 'orange'}\n",
    "\n",
    "\n",
    "cf) type(): 데이터 타입 알려줌\n"
   ]
  },
  {
   "cell_type": "markdown",
   "id": "a7ca9871-4a98-418d-9a86-49b986425d96",
   "metadata": {},
   "source": [
    "#### 4.1.1 회문 판별 함수 ####\n",
    "cf) 문자열과 \n",
    "'Word'[::-1] / 'Word'.lower() / 'Word.replace('W', 'J')  \n",
    "Q1. if __name__ == '__main__': => 어느 경우에 사용하는지  \n",
    "Q2. 모듈의 개념과 파일로 저장하기\n"
   ]
  },
  {
   "cell_type": "code",
   "execution_count": 1,
   "id": "aea9b885-ea5a-444c-a24b-80e6f1f3106f",
   "metadata": {},
   "outputs": [
    {
     "name": "stdout",
     "output_type": "stream",
     "text": [
      "'anna' is a panlindrome\n",
      "'banana' is not a palindrome\n",
      "'Anna' is a panlindrome\n",
      "'My gym' is a panlindrome\n"
     ]
    }
   ],
   "source": [
    "def palindrome(s):\n",
    "    s = s.lower()\n",
    "    s = s.replace(' ', '')\n",
    "    return s[:] == s[::-1]\n",
    "\n",
    "if __name__ == '__main__':\n",
    "    for x in ['anna', 'banana', 'Anna', 'My gym']:\n",
    "        if palindrome(x):\n",
    "            print(f\"'{x}' is a panlindrome\")\n",
    "        else:\n",
    "            print(f\"'{x}' is not a palindrome\")"
   ]
  },
  {
   "cell_type": "markdown",
   "id": "6c5403b5-a028-46e4-844f-30e2a9b40567",
   "metadata": {},
   "source": [
    "#### 4.2 문자열과 리스트 ####\n",
    "- 문자열  \n",
    "cf) 문자열과 기능  \n",
    "word.find('o'): 'o'문자의 위치 알려줌   \n",
    "word.rstrip(): 문자열 공백 제거  \n",
    "s.split() & s.split()[N]: 분자열 분열과 리스트 생성 & 단어의 위치 알려줌\n",
    "\n",
    "- 리스트와 기능  \n",
    "뒷자리에 추가: list.append(element)  \n",
    "지정 자리에 추가: list.insert(N,element)  \n",
    "크기 정렬: list.sort()  \n",
    "제거: del list[N]  \n",
    "추출: x = list.pop(N)  \n",
    "치환: list[N] = new_element  \n",
    "행렬: list = [[,,],[,,],.,[,,]]  \n",
    "공백 리스트: list = []  \n",
    "원소 합: sum(list)\n",
    "\n",
    "- 문자열 리스트 형변환  \n",
    "Q. 4.2.1 예시 문제  list(str(num))\n",
    "\n",
    "#### 4.2.2 연습문제 stem_leaf 리스트 #### \n",
    "stem_leaf 리스트 작성하기  \n",
    "d, m = divmod(s, 10) // 요소 s를 10으로 나눠서 몫은 d에 저장, 나머지는 m에 저장 할 것이다.  \n",
    "stem_leaf[d].append(m) // stem_leaf 리스트에 d번째 칸에 m을 순서대로 넣을 것이다.  \n",
    "\n"
   ]
  },
  {
   "cell_type": "markdown",
   "id": "ec67ef9f-ab8c-4b73-a444-35521a361d48",
   "metadata": {},
   "source": [
    "score = [0, 0, 2, 4, 7, 7, 9]\n",
    "score += [11, 11, 13, 18]\n",
    "score += [20]\n",
    "\n",
    "stem_leaf = [[], [], []]\n",
    "\n",
    "for s in score:\n",
    "    d, m = divmod(s, 10)\n",
    "    stem_leaf[d].append(m)\n",
    "    \n",
    "stem_leaf"
   ]
  }
 ],
 "metadata": {
  "kernelspec": {
   "display_name": "Python 3 (ipykernel)",
   "language": "python",
   "name": "python3"
  },
  "language_info": {
   "codemirror_mode": {
    "name": "ipython",
    "version": 3
   },
   "file_extension": ".py",
   "mimetype": "text/x-python",
   "name": "python",
   "nbconvert_exporter": "python",
   "pygments_lexer": "ipython3",
   "version": "3.10.8"
  }
 },
 "nbformat": 4,
 "nbformat_minor": 5
}
